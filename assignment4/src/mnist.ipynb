{
 "cells": [
  {
   "cell_type": "code",
   "execution_count": 50,
   "metadata": {
    "collapsed": false
   },
   "outputs": [],
   "source": [
    "from mnist import MNIST\n",
    "import numpy as np\n",
    "from matplotlib.pyplot import imshow\n",
    "%matplotlib inline\n",
    "from sklearn.preprocessing import StandardScaler"
   ]
  },
  {
   "cell_type": "code",
   "execution_count": 5,
   "metadata": {
    "collapsed": false
   },
   "outputs": [],
   "source": [
    "mndata = MNIST('../data')\n",
    "TrainingData = mndata.load_training()\n",
    "TestData     = mndata.load_testing()"
   ]
  },
  {
   "cell_type": "code",
   "execution_count": 71,
   "metadata": {
    "collapsed": false
   },
   "outputs": [],
   "source": [
    "X_train = np.array(TrainingData[0])\n",
    "Y_train = np.array(TrainingData[1])\n",
    "X_test  = np.array(TestData[0])\n",
    "Y_test  = np.array(TestData[1])"
   ]
  },
  {
   "cell_type": "code",
   "execution_count": 72,
   "metadata": {
    "collapsed": false
   },
   "outputs": [
    {
     "name": "stdout",
     "output_type": "stream",
     "text": [
      "the number shoud be 5\n"
     ]
    },
    {
     "data": {
      "image/png": "[encoded data removed]",
      "text/plain": [
       "<matplotlib.figure.Figure at 0x2b9875c0>"
      ]
     },
     "metadata": {},
     "output_type": "display_data"
    }
   ],
   "source": [
    "def Visualize(a):\n",
    "    data = a.reshape((28, 28))\n",
    "    imshow(data)\n",
    "\n",
    "Visualize(X_train[0])\n",
    "print \"the number shoud be\", Y_train[0]"
   ]
  },
  {
   "cell_type": "code",
   "execution_count": 83,
   "metadata": {
    "collapsed": false
   },
   "outputs": [],
   "source": [
    "X_std = StandardScaler().fit_transform(X_train)"
   ]
  },
  {
   "cell_type": "code",
   "execution_count": 84,
   "metadata": {
    "collapsed": false
   },
   "outputs": [
    {
     "name": "stdout",
     "output_type": "stream",
     "text": [
      "Covariance matrix \n",
      "[[  4.82902668e-36   4.82902668e-36   4.82902668e-36 ...,   4.82902668e-36\n",
      "    4.82902668e-36   4.82902668e-36]\n",
      " [  4.82902668e-36   4.82902668e-36   4.82902668e-36 ...,   4.82902668e-36\n",
      "    4.82902668e-36   4.82902668e-36]\n",
      " [  4.82902668e-36   4.82902668e-36   4.82902668e-36 ...,   4.82902668e-36\n",
      "    4.82902668e-36   4.82902668e-36]\n",
      " ..., \n",
      " [  4.82902668e-36   4.82902668e-36   4.82902668e-36 ...,   4.82902668e-36\n",
      "    4.82902668e-36   4.82902668e-36]\n",
      " [  4.82902668e-36   4.82902668e-36   4.82902668e-36 ...,   4.82902668e-36\n",
      "    4.82902668e-36   4.82902668e-36]\n",
      " [  4.82902668e-36   4.82902668e-36   4.82902668e-36 ...,   4.82902668e-36\n",
      "    4.82902668e-36   4.82902668e-36]]\n"
     ]
    }
   ],
   "source": [
    "mean_vec = np.mean(X_std)\n",
    "cov_mat = (X_train_std - mean_vec).T.dot((X_std - mean_vec)) / (X_std.shape[0]-1)\n",
    "print('Covariance matrix \\n%s' %cov_mat)"
   ]
  },
  {
   "cell_type": "code",
   "execution_count": 85,
   "metadata": {
    "collapsed": false
   },
   "outputs": [
    {
     "name": "stdout",
     "output_type": "stream",
     "text": [
      "NumPy covariance matrix: \n",
      "[[ 0.  0.  0. ...,  0.  0.  0.]\n",
      " [ 0.  0.  0. ...,  0.  0.  0.]\n",
      " [ 0.  0.  0. ...,  0.  0.  0.]\n",
      " ..., \n",
      " [ 0.  0.  0. ...,  0.  0.  0.]\n",
      " [ 0.  0.  0. ...,  0.  0.  0.]\n",
      " [ 0.  0.  0. ...,  0.  0.  0.]]\n"
     ]
    }
   ],
   "source": [
    "print('NumPy covariance matrix: \\n%s' %np.cov(X_std.T))"
   ]
  },
  {
   "cell_type": "code",
   "execution_count": 86,
   "metadata": {
    "collapsed": false
   },
   "outputs": [
    {
     "name": "stdout",
     "output_type": "stream",
     "text": [
      "Eigenvectors \n",
      "[[ 0.  0.  0. ...,  0.  0.  0.]\n",
      " [ 0.  0.  0. ...,  0.  0.  0.]\n",
      " [ 0.  0.  0. ...,  0.  0.  0.]\n",
      " ..., \n",
      " [ 0.  0.  0. ...,  1.  0.  0.]\n",
      " [ 0.  0.  0. ...,  0.  1.  0.]\n",
      " [ 0.  0.  0. ...,  0.  0.  1.]]\n",
      "\n",
      "Eigenvalues \n",
      "[  4.04876351e+01   2.92416975e+01   2.68118045e+01   2.06866182e+01\n",
      "   1.80766501e+01   1.57331779e+01   1.37906091e+01   1.25175891e+01\n",
      "   1.10067953e+01   1.00504971e+01   9.62045779e+00   8.63097356e+00\n",
      "   7.99159687e+00   7.81488215e+00   7.37553786e+00   7.13058751e+00\n",
      "   6.71398002e+00   6.60400749e+00   6.40604846e+00   6.23737743e+00\n",
      "   5.93229172e+00   5.76059855e+00   5.48403364e+00   5.31859721e+00\n",
      "   5.12873534e+00   4.96062446e+00   4.90533662e+00   4.70843497e+00\n",
      "   4.52919760e+00   4.39470849e+00   4.27522172e+00   4.21399693e+00\n",
      "   4.09838079e+00   4.03181137e+00   3.97713624e+00   3.86052409e+00\n",
      "   3.80864021e+00   3.72563426e+00   3.64393543e+00   3.44169730e+00\n",
      "   3.41624517e+00   3.36378527e+00   3.25773631e+00   3.23620323e+00\n",
      "   3.20478100e+00   3.17911021e+00   3.14205728e+00   3.08588859e+00\n",
      "   3.06076556e+00   3.03759974e+00   2.90171955e+00   2.86408562e+00\n",
      "   2.84980787e+00   2.82374220e+00   2.76632955e+00   2.71778127e+00\n",
      "   2.69168208e+00   2.65850712e+00   2.61669482e+00   2.57622805e+00\n",
      "   2.52662224e+00   2.49372200e+00   2.46947024e+00   2.43689501e+00\n",
      "   2.37950231e+00   2.40883423e+00   2.40117231e+00   2.31613470e+00\n",
      "   2.20296830e+00   2.26774369e+00   2.22798149e+00   2.24599870e+00\n",
      "   2.18627124e+00   2.17051836e+00   2.14734556e+00   2.13498319e+00\n",
      "   2.11555498e+00   2.08247613e+00   2.05679316e+00   2.04834358e+00\n",
      "   2.03199594e+00   2.02647039e+00   1.98938884e+00   1.99701589e+00\n",
      "   2.00265280e+00   2.00441448e+00   1.97824175e+00   1.96624268e+00\n",
      "   1.94604647e+00   1.93064752e+00   1.91072454e+00   1.88990935e+00\n",
      "   1.88546602e+00   1.85582005e+00   1.87164368e+00   1.83681554e+00\n",
      "   1.82010514e+00   1.79573679e+00   1.77696635e+00   1.75691985e+00\n",
      "   1.73765462e+00   1.71276546e+00   1.68934046e+00   1.70257862e+00\n",
      "   1.73562635e+00   1.67101948e+00   1.63464434e+00   1.62169616e+00\n",
      "   1.59493668e+00   1.59772874e+00   1.55775724e+00   1.56430052e+00\n",
      "   1.53639022e+00   1.51269458e+00   1.51961872e+00   1.48658240e+00\n",
      "   1.42557733e+00   1.43733770e+00   1.45129315e+00   1.46816180e+00\n",
      "   1.46534439e+00   1.39971900e+00   1.38911970e+00   1.12921871e+00\n",
      "   1.13941997e+00   1.15073437e+00   1.37462572e+00   1.37740311e+00\n",
      "   1.36090375e+00   1.34145392e+00   1.33748308e+00   1.15787237e+00\n",
      "   1.19627356e+00   1.30008589e+00   1.24032117e+00   1.26307183e+00\n",
      "   1.26875583e+00   1.29065928e+00   1.28484268e+00   1.25331373e+00\n",
      "   1.20979365e+00   1.17800458e+00   1.20828692e+00   1.23337989e+00\n",
      "   1.18105093e+00   1.28325940e+00   1.18002202e+00   1.10450601e+00\n",
      "   1.11794888e+00   1.11594270e+00   1.10897123e+00   8.71214382e-01\n",
      "   8.72015265e-01   1.08702347e+00   8.81806621e-01   1.07746510e+00\n",
      "   8.89415865e-01   8.98571829e-01   1.06663103e+00   1.05763156e+00\n",
      "   9.09329982e-01   9.13521711e-01   1.05271811e+00   9.19501125e-01\n",
      "   1.04373749e+00   1.04542338e+00   9.27270932e-01   9.34217483e-01\n",
      "   9.39711823e-01   1.03778040e+00   1.02457526e+00   9.52947883e-01\n",
      "  -5.42034377e-15  -1.01109048e-16  -1.61094213e-14   9.58654539e-01\n",
      "   1.01140140e+00   9.73862888e-01   9.81192863e-01   9.76322902e-01\n",
      "  -1.02870627e-15  -4.18494086e-16   9.91911998e-01   9.88157683e-01\n",
      "   1.00337654e+00   9.98261140e-01   1.00173184e+00   1.00046855e+00\n",
      "   9.95020075e-01   9.99191919e-01   6.94421603e-01   7.00717594e-01\n",
      "   7.11228039e-01   7.15476545e-01   7.18144063e-01   7.22925702e-01\n",
      "   7.31877290e-01   7.40444383e-01   7.42851924e-01   7.50198727e-01\n",
      "   7.56264498e-01   7.78284570e-01   7.62908716e-01   7.84473967e-01\n",
      "   8.03449231e-01   8.08215089e-01   8.23117400e-01   8.33410975e-01\n",
      "   8.37184629e-01   8.43235896e-01   8.60432164e-01   8.53867404e-01\n",
      "   8.15267928e-01   8.52487702e-01   7.67406792e-01   5.88509327e-01\n",
      "   5.90833961e-01   5.99225352e-01   6.02355906e-01   6.06128179e-01\n",
      "   6.18152873e-01   6.17030157e-01   6.23195036e-01   6.57788436e-01\n",
      "   6.51533127e-01   6.36570883e-01   6.39263938e-01   6.64488083e-01\n",
      "   6.43496468e-01   6.79532593e-01   6.76647756e-01   6.78632628e-01\n",
      "   6.86932408e-01   6.85727239e-01   6.30172117e-01   4.97718737e-01\n",
      "   5.03714555e-01   5.09825144e-01   5.13934741e-01   5.20217684e-01\n",
      "   5.21320646e-01   5.37881094e-01   5.33123929e-01   5.29867268e-01\n",
      "   5.49497643e-01   5.53177784e-01   5.67852315e-01   5.61624332e-01\n",
      "   5.82907666e-01   5.58383345e-01   5.25161915e-01   5.80913374e-01\n",
      "   4.34404141e-01   4.36675878e-01   4.44695444e-01   4.47458443e-01\n",
      "   4.50189101e-01   4.75583700e-01   4.56254231e-01   4.69695238e-01\n",
      "   4.62111407e-01   4.81468108e-01   4.53244253e-01   4.84983642e-01\n",
      "   4.59846163e-01   4.87185886e-01   4.86432076e-01   4.67368512e-01\n",
      "   4.97977519e-01   3.81769775e-01   3.86309617e-01   3.87705268e-01\n",
      "   3.90516049e-01   4.29189248e-01   4.24368563e-01   4.16413029e-01\n",
      "   4.18485347e-01   3.94502588e-01   3.99065308e-01   4.00671323e-01\n",
      "   4.08471878e-01   3.95580204e-01   4.12449566e-01   4.04344431e-01\n",
      "   4.10582162e-01   3.41299517e-01   3.41952155e-01   3.43846592e-01\n",
      "   3.46199865e-01   3.52991130e-01   3.56385195e-01   3.59056663e-01\n",
      "   3.60731952e-01   3.69121222e-01   3.71998603e-01   3.74555846e-01\n",
      "   3.64480618e-01   3.79689026e-01   3.63772773e-01   3.77292543e-01\n",
      "   2.97688251e-01   3.00595992e-01   3.02044591e-01   3.04565633e-01\n",
      "   3.08817314e-01   3.09981918e-01   3.20204304e-01   3.22230096e-01\n",
      "   3.17389390e-01   3.27493768e-01   3.28980797e-01   3.34127319e-01\n",
      "   3.37787572e-01   3.14327419e-01   3.14190815e-01   2.57742910e-01\n",
      "   2.62822897e-01   2.65666468e-01   2.71785205e-01   2.69634840e-01\n",
      "   2.69044393e-01   2.74639678e-01   2.96323297e-01   2.76914819e-01\n",
      "   2.83406408e-01   2.87902285e-01   2.77292550e-01   2.79694355e-01\n",
      "   2.94224578e-01   2.89507545e-01   2.92865100e-01   2.85695120e-01\n",
      "   2.81135638e-01   2.22209507e-01   2.23096454e-01   2.28963720e-01\n",
      "   2.31660139e-01   2.32991996e-01   2.35754464e-01   2.38292622e-01\n",
      "   2.40053817e-01   2.45198088e-01   2.47563265e-01   2.43064419e-01\n",
      "   2.56874311e-01   2.41307807e-01   2.52746964e-01   2.49843163e-01\n",
      "   2.54604001e-01   2.53626392e-01   2.60855351e-01   2.36682853e-01\n",
      "   1.98243374e-01   1.98839918e-01   2.00898638e-01   2.02460527e-01\n",
      "   2.03332192e-01   2.04731295e-01   2.06109566e-01   2.07855977e-01\n",
      "   2.11075350e-01   2.16656686e-01   2.25826736e-01   2.12599221e-01\n",
      "   2.15451435e-01   2.19746772e-01   2.13453802e-01   2.18403595e-01\n",
      "   2.21436478e-01   2.30555192e-01   2.08130564e-01   1.73690498e-01\n",
      "   1.74420089e-01   1.74967019e-01   1.75255324e-01   1.78011809e-01\n",
      "   1.79060927e-01   1.95388527e-01   1.88570340e-01   1.90529644e-01\n",
      "   1.86438570e-01   1.93620168e-01   1.83297399e-01   1.80148747e-01\n",
      "   1.81454808e-01   1.85947026e-01   1.82005924e-01   1.90726367e-01\n",
      "   1.93968546e-01   1.52978604e-01   1.53956248e-01   1.55060558e-01\n",
      "   1.55720156e-01   1.56505175e-01   1.57817501e-01   1.70486233e-01\n",
      "   1.69348610e-01   1.67146213e-01   1.58992741e-01   1.60724015e-01\n",
      "   1.62858297e-01   1.58741752e-01   1.69946865e-01   1.61751723e-01\n",
      "   1.65358007e-01   1.64238182e-01   1.64702881e-01   1.61181988e-01\n",
      "   1.68465237e-01   6.56559436e-03   1.34235483e-01   1.35260224e-01\n",
      "   1.35593590e-01   1.36643072e-01   1.36221127e-01   1.40102271e-01\n",
      "   1.40716746e-01   1.47865802e-01   1.48481735e-01   1.49584770e-01\n",
      "   1.51695779e-01   1.45332273e-01   1.43367074e-01   1.42128177e-01\n",
      "   1.46080278e-01   1.50917348e-01   1.41994619e-01   1.43283422e-01\n",
      "   7.17242604e-03   1.32765017e-01   1.32584294e-01   1.31475799e-01\n",
      "   1.29519639e-01   1.17466508e-01   1.28443315e-01   1.18118898e-01\n",
      "   1.19014895e-01   1.18618063e-01   1.19691646e-01   1.27310352e-01\n",
      "   1.25545217e-01   1.26218460e-01   1.26370509e-01   1.20657905e-01\n",
      "   1.21965692e-01   1.20931467e-01   1.22200214e-01   1.22656192e-01\n",
      "   1.24204173e-01   1.24143190e-01   1.28395665e-01   1.38856542e-02\n",
      "   1.83221629e-02   1.89439305e-02   2.02921999e-02   1.15873486e-01\n",
      "   1.15123624e-01   1.16723470e-01   1.14075389e-01   1.12686552e-01\n",
      "   1.12151588e-01   1.11460884e-01   1.17335939e-01   1.10189973e-01\n",
      "   1.02533700e-01   1.03903678e-01   1.08447512e-01   1.07512156e-01\n",
      "   1.10337588e-01   1.02878772e-01   1.09251077e-01   1.06105875e-01\n",
      "   1.06906452e-01   1.05211540e-01   1.07123729e-01   1.02968916e-01\n",
      "   1.05596996e-01   1.05557310e-01   2.10718787e-02   2.14999299e-02\n",
      "   2.16656988e-02   2.22649985e-02   2.29989817e-02   2.33362292e-02\n",
      "   2.35875789e-02   2.37961979e-02   2.39526881e-02   2.42222112e-02\n",
      "   2.44670377e-02   2.48627800e-02   2.51047645e-02   2.54160567e-02\n",
      "   1.01479815e-01   2.56063738e-02   1.01262080e-01   1.01016474e-01\n",
      "   1.00089851e-01   9.99892719e-02   9.91338182e-02   2.60793274e-02\n",
      "   9.86711040e-02   9.81215477e-02   9.76251251e-02   2.61234288e-02\n",
      "   2.65608612e-02   9.62231028e-02   9.56929338e-02   9.44572175e-02\n",
      "   9.60720767e-02   9.34723302e-02   9.39433404e-02   9.41294611e-02\n",
      "   9.18704879e-02   9.01526562e-02   9.31289342e-02   9.27594700e-02\n",
      "   9.07451341e-02   2.68436483e-02   2.70103969e-02   2.73869228e-02\n",
      "   2.74428514e-02   2.77582685e-02   2.78187744e-02   2.83097343e-02\n",
      "   3.11398031e-02   2.88835801e-02   2.85708025e-02   2.86486221e-02\n",
      "   2.92630840e-02   3.08688716e-02   2.94319458e-02   2.97949616e-02\n",
      "   2.99644223e-02   3.06071886e-02   3.00696641e-02   9.10168920e-02\n",
      "   8.92193059e-02   8.96636379e-02   8.87277140e-02   8.74545243e-02\n",
      "   8.73580614e-02   8.80568274e-02   8.80285263e-02   8.52048428e-02\n",
      "   8.62906832e-02   8.61700917e-02   8.55990561e-02   8.36722827e-02\n",
      "   8.44529369e-02   8.30866507e-02   8.46472695e-02   8.25608788e-02\n",
      "   8.18500514e-02   8.16703160e-02   7.17099815e-02   8.11542292e-02\n",
      "   7.22039988e-02   8.04738566e-02   7.98603370e-02   7.95480199e-02\n",
      "   8.06639212e-02   7.29374955e-02   7.32932843e-02   7.35312319e-02\n",
      "   7.87399861e-02   7.84451935e-02   7.38366511e-02   7.40440678e-02\n",
      "   7.46529557e-02   7.80337541e-02   7.77029827e-02   7.54886634e-02\n",
      "   7.51180970e-02   7.66443782e-02   7.73259623e-02   7.57474876e-02\n",
      "   7.62542539e-02   7.67910575e-02   7.68333616e-02   3.13034389e-02\n",
      "   3.15562557e-02   3.17933706e-02   6.98316081e-02   7.08756769e-02\n",
      "   7.15706831e-02   3.21037116e-02   3.24665874e-02   3.23106016e-02\n",
      "   3.28583071e-02   3.33336758e-02   3.30425630e-02   3.30321676e-02\n",
      "   6.60528233e-02   6.73116833e-02   6.62586124e-02   6.81514701e-02\n",
      "   6.92024162e-02   6.89287720e-02   6.96772735e-02   6.85711578e-02\n",
      "   6.78016037e-02   7.07507823e-02   7.10311959e-02   3.39543617e-02\n",
      "   3.41489461e-02   3.43130223e-02   3.67344276e-02   3.45244406e-02\n",
      "   3.46110764e-02   3.48498378e-02   3.50358551e-02   3.61879558e-02\n",
      "   3.59162544e-02   3.54631660e-02   6.42815428e-02   6.47105600e-02\n",
      "   6.51600153e-02   6.36531084e-02   6.74223771e-02   5.96677277e-02\n",
      "   6.17660888e-02   6.22327966e-02   6.33409701e-02   6.65357242e-02\n",
      "   6.30312611e-02   6.11624657e-02   6.00326437e-02   3.59943079e-02\n",
      "   3.54023301e-02   6.62264686e-02   6.03349298e-02   6.07923960e-02\n",
      "   6.27238322e-02   6.06078083e-02   6.27488514e-02   3.65619919e-02\n",
      "   3.71127802e-02   6.05434735e-02   5.88999762e-02   5.88628271e-02\n",
      "   5.85510879e-02   3.72845096e-02   3.74993876e-02   5.79943108e-02\n",
      "   3.78693756e-02   5.78437407e-02   5.76494335e-02   5.05497387e-02\n",
      "   5.10479138e-02   4.99116244e-02   4.54379499e-02   5.68811660e-02\n",
      "   4.49038603e-02   5.63243523e-02   5.25559833e-02   3.83521186e-02\n",
      "   5.32703180e-02   5.56855020e-02   3.86448683e-02   4.33655302e-02\n",
      "   5.35849174e-02   5.48709860e-02   4.35445022e-02   4.25307634e-02\n",
      "   3.93769365e-02   5.53722710e-02   5.72765425e-02   3.94726717e-02\n",
      "   3.89699453e-02   3.99565701e-02   4.06164065e-02   4.08944148e-02\n",
      "   4.10675070e-02   4.01450119e-02   5.41728469e-02   3.82816086e-02\n",
      "   3.98526746e-02   5.61291557e-02   5.60255322e-02   5.43966943e-02\n",
      "   4.03433886e-02   5.42523141e-02   5.34825814e-02   4.15544589e-02\n",
      "   4.15973853e-02   5.26310566e-02   4.20929771e-02   4.23348529e-02\n",
      "   5.14793601e-02   5.14124706e-02   4.31086396e-02   4.29895597e-02\n",
      "   5.20362941e-02   4.51108398e-02   4.58680713e-02   4.43741697e-02\n",
      "   4.64165184e-02   5.20588390e-02   4.38093618e-02   4.89608800e-02\n",
      "   4.86759779e-02   4.67845698e-02   4.60459393e-02   4.95378820e-02\n",
      "   4.97760814e-02   4.71481705e-02   4.81156631e-02   4.44970007e-02\n",
      "   4.69737834e-02   4.84461765e-02   4.94472372e-02   4.76982984e-02\n",
      "   4.78461598e-02   4.04408804e-02   4.20002173e-02   4.41731765e-02\n",
      "   4.84019063e-02   0.00000000e+00   0.00000000e+00   0.00000000e+00\n",
      "   0.00000000e+00   0.00000000e+00   0.00000000e+00   0.00000000e+00\n",
      "   0.00000000e+00   0.00000000e+00   0.00000000e+00   0.00000000e+00\n",
      "   0.00000000e+00   0.00000000e+00   0.00000000e+00   0.00000000e+00\n",
      "   0.00000000e+00   0.00000000e+00   0.00000000e+00   0.00000000e+00\n",
      "   0.00000000e+00   0.00000000e+00   0.00000000e+00   0.00000000e+00\n",
      "   0.00000000e+00   0.00000000e+00   0.00000000e+00   0.00000000e+00\n",
      "   0.00000000e+00   0.00000000e+00   0.00000000e+00   0.00000000e+00\n",
      "   0.00000000e+00   0.00000000e+00   0.00000000e+00   0.00000000e+00\n",
      "   0.00000000e+00   0.00000000e+00   0.00000000e+00   0.00000000e+00\n",
      "   0.00000000e+00   0.00000000e+00   0.00000000e+00   0.00000000e+00\n",
      "   0.00000000e+00   0.00000000e+00   0.00000000e+00   0.00000000e+00\n",
      "   0.00000000e+00   0.00000000e+00   0.00000000e+00   0.00000000e+00\n",
      "   0.00000000e+00   0.00000000e+00   0.00000000e+00   0.00000000e+00\n",
      "   0.00000000e+00   0.00000000e+00   0.00000000e+00   0.00000000e+00\n",
      "   0.00000000e+00   0.00000000e+00   0.00000000e+00   0.00000000e+00\n",
      "   0.00000000e+00   0.00000000e+00   0.00000000e+00   0.00000000e+00]\n"
     ]
    }
   ],
   "source": [
    "cov_mat = np.cov(X_std.T)\n",
    "\n",
    "eig_vals, eig_vecs = np.linalg.eig(cov_mat)\n",
    "\n",
    "print('Eigenvectors \\n%s' %eig_vecs)\n",
    "print('\\nEigenvalues \\n%s' %eig_vals)"
   ]
  },
  {
   "cell_type": "code",
   "execution_count": 87,
   "metadata": {
    "collapsed": false
   },
   "outputs": [
    {
     "name": "stderr",
     "output_type": "stream",
     "text": [
      "C:\\Users\\wexleyz\\AppData\\Local\\Continuum\\Anaconda2\\lib\\site-packages\\numpy\\lib\\function_base.py:2569: RuntimeWarning: invalid value encountered in true_divide\n",
      "  c /= stddev[:, None]\n",
      "C:\\Users\\wexleyz\\AppData\\Local\\Continuum\\Anaconda2\\lib\\site-packages\\numpy\\lib\\function_base.py:2570: RuntimeWarning: invalid value encountered in true_divide\n",
      "  c /= stddev[None, :]\n"
     ]
    },
    {
     "ename": "LinAlgError",
     "evalue": "Array must not contain infs or NaNs",
     "output_type": "error",
     "traceback": [
      "\u001b[0;31m\u001b[0m",
      "\u001b[0;31mLinAlgError\u001b[0mTraceback (most recent call last)",
      "\u001b[0;32m<ipython-input-87-f331513cabb5>\u001b[0m in \u001b[0;36m<module>\u001b[0;34m()\u001b[0m\n\u001b[1;32m      1\u001b[0m \u001b[0mcor_mat1\u001b[0m \u001b[1;33m=\u001b[0m \u001b[0mnp\u001b[0m\u001b[1;33m.\u001b[0m\u001b[0mcorrcoef\u001b[0m\u001b[1;33m(\u001b[0m\u001b[0mX_std\u001b[0m\u001b[1;33m.\u001b[0m\u001b[0mT\u001b[0m\u001b[1;33m)\u001b[0m\u001b[1;33m\u001b[0m\u001b[0m\n\u001b[1;32m      2\u001b[0m \u001b[1;33m\u001b[0m\u001b[0m\n\u001b[0;32m----> 3\u001b[0;31m \u001b[0meig_vals\u001b[0m\u001b[1;33m,\u001b[0m \u001b[0meig_vecs\u001b[0m \u001b[1;33m=\u001b[0m \u001b[0mnp\u001b[0m\u001b[1;33m.\u001b[0m\u001b[0mlinalg\u001b[0m\u001b[1;33m.\u001b[0m\u001b[0meig\u001b[0m\u001b[1;33m(\u001b[0m\u001b[0mcor_mat1\u001b[0m\u001b[1;33m)\u001b[0m\u001b[1;33m\u001b[0m\u001b[0m\n\u001b[0m\u001b[1;32m      4\u001b[0m \u001b[1;33m\u001b[0m\u001b[0m\n\u001b[1;32m      5\u001b[0m \u001b[1;32mprint\u001b[0m\u001b[1;33m(\u001b[0m\u001b[1;34m'Eigenvectors \\n%s'\u001b[0m \u001b[1;33m%\u001b[0m\u001b[0meig_vecs\u001b[0m\u001b[1;33m)\u001b[0m\u001b[1;33m\u001b[0m\u001b[0m\n",
      "\u001b[0;32mC:\\Users\\wexleyz\\AppData\\Local\\Continuum\\Anaconda2\\lib\\site-packages\\numpy\\linalg\\linalg.pyc\u001b[0m in \u001b[0;36meig\u001b[0;34m(a)\u001b[0m\n\u001b[1;32m   1120\u001b[0m     \u001b[0m_assertRankAtLeast2\u001b[0m\u001b[1;33m(\u001b[0m\u001b[0ma\u001b[0m\u001b[1;33m)\u001b[0m\u001b[1;33m\u001b[0m\u001b[0m\n\u001b[1;32m   1121\u001b[0m     \u001b[0m_assertNdSquareness\u001b[0m\u001b[1;33m(\u001b[0m\u001b[0ma\u001b[0m\u001b[1;33m)\u001b[0m\u001b[1;33m\u001b[0m\u001b[0m\n\u001b[0;32m-> 1122\u001b[0;31m     \u001b[0m_assertFinite\u001b[0m\u001b[1;33m(\u001b[0m\u001b[0ma\u001b[0m\u001b[1;33m)\u001b[0m\u001b[1;33m\u001b[0m\u001b[0m\n\u001b[0m\u001b[1;32m   1123\u001b[0m     \u001b[0mt\u001b[0m\u001b[1;33m,\u001b[0m \u001b[0mresult_t\u001b[0m \u001b[1;33m=\u001b[0m \u001b[0m_commonType\u001b[0m\u001b[1;33m(\u001b[0m\u001b[0ma\u001b[0m\u001b[1;33m)\u001b[0m\u001b[1;33m\u001b[0m\u001b[0m\n\u001b[1;32m   1124\u001b[0m \u001b[1;33m\u001b[0m\u001b[0m\n",
      "\u001b[0;32mC:\\Users\\wexleyz\\AppData\\Local\\Continuum\\Anaconda2\\lib\\site-packages\\numpy\\linalg\\linalg.pyc\u001b[0m in \u001b[0;36m_assertFinite\u001b[0;34m(*arrays)\u001b[0m\n\u001b[1;32m    215\u001b[0m     \u001b[1;32mfor\u001b[0m \u001b[0ma\u001b[0m \u001b[1;32min\u001b[0m \u001b[0marrays\u001b[0m\u001b[1;33m:\u001b[0m\u001b[1;33m\u001b[0m\u001b[0m\n\u001b[1;32m    216\u001b[0m         \u001b[1;32mif\u001b[0m \u001b[1;32mnot\u001b[0m \u001b[1;33m(\u001b[0m\u001b[0misfinite\u001b[0m\u001b[1;33m(\u001b[0m\u001b[0ma\u001b[0m\u001b[1;33m)\u001b[0m\u001b[1;33m.\u001b[0m\u001b[0mall\u001b[0m\u001b[1;33m(\u001b[0m\u001b[1;33m)\u001b[0m\u001b[1;33m)\u001b[0m\u001b[1;33m:\u001b[0m\u001b[1;33m\u001b[0m\u001b[0m\n\u001b[0;32m--> 217\u001b[0;31m             \u001b[1;32mraise\u001b[0m \u001b[0mLinAlgError\u001b[0m\u001b[1;33m(\u001b[0m\u001b[1;34m\"Array must not contain infs or NaNs\"\u001b[0m\u001b[1;33m)\u001b[0m\u001b[1;33m\u001b[0m\u001b[0m\n\u001b[0m\u001b[1;32m    218\u001b[0m \u001b[1;33m\u001b[0m\u001b[0m\n\u001b[1;32m    219\u001b[0m \u001b[1;32mdef\u001b[0m \u001b[0m_assertNoEmpty2d\u001b[0m\u001b[1;33m(\u001b[0m\u001b[1;33m*\u001b[0m\u001b[0marrays\u001b[0m\u001b[1;33m)\u001b[0m\u001b[1;33m:\u001b[0m\u001b[1;33m\u001b[0m\u001b[0m\n",
      "\u001b[0;31mLinAlgError\u001b[0m: Array must not contain infs or NaNs"
     ]
    }
   ],
   "source": [
    "cor_mat1 = np.corrcoef(X_std.T)\n",
    "\n",
    "eig_vals, eig_vecs = np.linalg.eig(cor_mat1)\n",
    "\n",
    "print('Eigenvectors \\n%s' %eig_vecs)\n",
    "print('\\nEigenvalues \\n%s' %eig_vals)"
   ]
  },
  {
   "cell_type": "code",
   "execution_count": null,
   "metadata": {
    "collapsed": true
   },
   "outputs": [],
   "source": []
  }
 ],
 "metadata": {
  "kernelspec": {
   "display_name": "Python 2",
   "language": "python",
   "name": "python2"
  },
  "language_info": {
   "codemirror_mode": {
    "name": "ipython",
    "version": 2
   },
   "file_extension": ".py",
   "mimetype": "text/x-python",
   "name": "python",
   "nbconvert_exporter": "python",
   "pygments_lexer": "ipython2",
   "version": "2.7.13"
  }
 },
 "nbformat": 4,
 "nbformat_minor": 2
}
